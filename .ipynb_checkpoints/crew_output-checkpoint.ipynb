{
 "cells": [
  {
   "cell_type": "code",
   "execution_count": null,
   "id": "107d73e9",
   "metadata": {},
   "outputs": [],
   "source": [
    "import pandas as pd"
   ]
  },
  {
   "cell_type": "code",
   "execution_count": null,
   "id": "ef99bffa",
   "metadata": {},
   "outputs": [],
   "source": [
    "tasks = [{'id': 'TASK-001', 'title': 'Develop Blog Series Strategy', 'description': 'Create a comprehensive strategy for a 5-part blog series addressing key pain points for B2B SaaS decision-makers', 'priority': 'High', 'estimated_hours': 16, 'deliverables': ['Content strategy document', 'Blog outline templates', 'SEO keyword research'], 'dependencies': []}, {'id': 'TASK-002', 'title': 'Create Lead Magnet Content', 'description': 'Design and write an eBook and checklist to support gated campaigns', 'priority': 'High', 'estimated_hours': 20, 'deliverables': ['eBook PDF', 'Downloadable checklist', 'Landing page copy'], 'dependencies': ['TASK-001']}, {'id': 'TASK-003', 'title': 'Email Nurture Sequence', 'description': 'Write a 4-part email sequence tied to blog and lead magnet topics', 'priority': 'Medium', 'estimated_hours': 12, 'deliverables': ['4 email templates', 'Subject line variations', 'CTA copy'], 'dependencies': ['TASK-001', 'TASK-002']}, {'id': 'TASK-004', 'title': 'Social Media Assets', 'description': 'Design promotional assets for LinkedIn, Twitter, and Instagram', 'priority': 'Medium', 'estimated_hours': 18, 'deliverables': ['15 LinkedIn posts', '10 Twitter graphics', '8 Instagram stories'], 'dependencies': ['TASK-001']}, {'id': 'TASK-005', 'title': 'Explainer Video Production', 'description': 'Produce a 2-minute explainer video for new feature set', 'priority': 'High', 'estimated_hours': 25, 'deliverables': ['Video script', 'Storyboard', 'Final video file'], 'dependencies': []}, {'id': 'TASK-006', 'title': 'Webinar Coordination', 'description': 'Schedule and coordinate live webinar with guest speakers', 'priority': 'Medium', 'estimated_hours': 15, 'deliverables': ['Webinar agenda', 'Speaker coordination', 'Registration page'], 'dependencies': ['TASK-001']}]\n",
    "df_tasks = pd.DataFrame(tasks)\n",
    "df_tasks.style.set_table_attributes('border=\"1\"').set_caption(\"Task Details\").set_table_styles(\n",
    "    [{'selector': 'th, td', 'props': [('font-size', '120%')]}]\n",
    ")"
   ]
  },
  {
   "cell_type": "code",
   "execution_count": null,
   "id": "23d82ce3",
   "metadata": {},
   "outputs": [],
   "source": [
    "assignments = [{'team_member': 'Sarah Lee (Content Strategist)', 'assigned_tasks': ['TASK-001', 'TASK-002'], 'total_hours': 36, 'role': 'Lead Strategist'}, {'team_member': 'Mark Johnson (SEO Writer)', 'assigned_tasks': ['TASK-001', 'TASK-003'], 'total_hours': 28, 'role': 'Content Writer'}, {'team_member': 'Priya Desai (Graphic Designer)', 'assigned_tasks': ['TASK-004'], 'total_hours': 18, 'role': 'Visual Designer'}, {'team_member': 'Carlos Rivera (Email Marketing Specialist)', 'assigned_tasks': ['TASK-003'], 'total_hours': 12, 'role': 'Email Marketing'}, {'team_member': 'Emma Chen (Social Media Manager)', 'assigned_tasks': ['TASK-004'], 'total_hours': 18, 'role': 'Social Media'}, {'team_member': 'Liam Brown (Video Producer)', 'assigned_tasks': ['TASK-005'], 'total_hours': 25, 'role': 'Video Production'}]\n",
    "df_assignments = pd.DataFrame(assignments)\n",
    "df_assignments.style.set_table_attributes('border=\"1\"').set_caption(\"Resource Assignments\").set_table_styles(\n",
    "    [{'selector': 'th, td', 'props': [('font-size', '120%')]}]\n",
    ")"
   ]
  },
  {
   "cell_type": "code",
   "execution_count": null,
   "id": "8a56420d",
   "metadata": {},
   "outputs": [],
   "source": [
    "milestones = [{'milestone': 'Content Strategy Complete', 'date': 'Week 2', 'description': 'Blog strategy and lead magnet strategy finalized', 'deliverables': ['TASK-001', 'TASK-002']}, {'milestone': 'Content Creation Phase 1', 'date': 'Week 4', 'description': 'Email sequence and social assets completed', 'deliverables': ['TASK-003', 'TASK-004']}, {'milestone': 'Video and Webinar Ready', 'date': 'Week 6', 'description': 'Video production and webinar setup complete', 'deliverables': ['TASK-005', 'TASK-006']}]\n",
    "df_milestones = pd.DataFrame(milestones)\n",
    "df_milestones.style.set_table_attributes('border=\"1\"').set_caption(\"Milestones\").set_table_styles(\n",
    "    [{'selector': 'th, td', 'props': [('font-size', '120%')]}]\n",
    ")"
   ]
  },
  {
   "cell_type": "code",
   "execution_count": null,
   "id": "78d103de",
   "metadata": {},
   "outputs": [],
   "source": [
    "print(\"📅 Content Calendar Summary:\")\n",
    "print(\"\"\"\n",
    "📅 CONTENT CALENDAR SUMMARY - Q1 2025\n",
    "\n",
    "WEEK 1-2: STRATEGY & PLANNING\n",
    "- Blog series strategy development (Sarah, Mark)\n",
    "- Lead magnet content outline (Sarah)\n",
    "- SEO keyword research (Mark)\n",
    "\n",
    "WEEK 3-4: CONTENT CREATION PHASE 1  \n",
    "- Email nurture sequence writing (Carlos, Mark)\n",
    "- Social media asset design (Priya, Emma)\n",
    "- Blog post drafts (Mark)\n",
    "\n",
    "WEEK 5-6: MULTIMEDIA & EVENTS\n",
    "- Explainer video production (Liam)\n",
    "- Webinar setup and speaker coordination (Sarah)\n",
    "- Lead magnet finalization (Sarah)\n",
    "\n",
    "ONGOING ACTIVITIES:\n",
    "- Weekly social media posts (Emma)\n",
    "- Blog SEO optimization (Mark)\n",
    "- Email campaign monitoring (Carlos)\n",
    "- Brand guideline compliance (All team members)\n",
    "\n",
    "QUARTERLY THEME: \"Scaling with Smart Systems\"\n",
    "All content aligned with Q1 messaging strategy focused on helping B2B SaaS companies optimize their operations and scale efficiently.\n",
    "            \"\"\")"
   ]
  }
 ],
 "metadata": {
  "kernelspec": {
   "display_name": "Python 3 (ipykernel)",
   "language": "python",
   "name": "python3"
  },
  "language_info": {
   "codemirror_mode": {
    "name": "ipython",
    "version": 3
   },
   "file_extension": ".py",
   "mimetype": "text/x-python",
   "name": "python",
   "nbconvert_exporter": "python",
   "pygments_lexer": "ipython3",
   "version": "3.9.13"
  }
 },
 "nbformat": 4,
 "nbformat_minor": 5
}
